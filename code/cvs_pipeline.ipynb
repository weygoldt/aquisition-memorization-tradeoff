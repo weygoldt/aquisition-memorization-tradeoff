{
 "cells": [
  {
   "cell_type": "code",
   "execution_count": 12,
   "metadata": {},
   "outputs": [],
   "source": [
    "import os\n",
    "from pathlib import Path\n",
    "import matplotlib.colors as mcolors\n",
    "import matplotlib.pyplot as plt\n",
    "from matplotlib.pyplot import cm\n",
    "import numpy as np\n",
    "import pandas as pd\n",
    "from scipy.optimize import curve_fit\n",
    "from modules.functions import bound_logistic\n",
    "from modules.plotstyle import PlotStyle\n",
    "import matplotlib.colors as mcolors\n",
    "import plottools.colors as clrs\n",
    "import cmocean.cm as cmo\n",
    "import seaborn as sns\n",
    "from scipy.stats import wilcoxon\n",
    "from cvs_preprocessing import dataimport\n",
    "import matplotlib.colors as mcolors\n",
    "%matplotlib qt\n",
    "\n",
    "# init standardized plotstyle\n",
    "ps = PlotStyle()"
   ]
  },
  {
   "cell_type": "code",
   "execution_count": 13,
   "metadata": {},
   "outputs": [],
   "source": [
    "# import the data\n",
    "dataroot = Path(\"../data/cvs\")\n",
    "processed_dataroot = Path(\"../data_processed\")\n",
    "df = dataimport(dataroot, processed_dataroot)\n",
    "\n",
    "# delete JONA!\n",
    "df = df[df.subj != 'VP1']\n",
    "\n",
    "# means and sem for trial duration\n",
    "names = np.unique(df.subj).tolist()\n",
    "n = df.shape[1] / len(names)\n",
    "means = np.array(df.tpertrial.groupby(df.subj).mean())\n",
    "sems = np.array(df.tpertrial.groupby(df.subj).std()) / np.sqrt(n)\n",
    "\n",
    "# put to dataframe\n",
    "df_all = pd.DataFrame(\n",
    "    list(zip(names, means, sems)),\n",
    "    columns=(\"names\", \"tpertrial_means\", \"tpertrial_sems\"),\n",
    ")\n",
    "\n",
    "# means and sems for no of switches\n",
    "means = np.array(df.switches.groupby(df.subj).mean())\n",
    "sems = np.array(df.switches.groupby(df.subj).std()) / np.sqrt(n)\n",
    "df_all[\"switches_means\"] = means\n",
    "df_all[\"switches_sems\"] = sems\n"
   ]
  },
  {
   "cell_type": "code",
   "execution_count": 14,
   "metadata": {},
   "outputs": [],
   "source": [
    "# fit power law function\n",
    "def func_powerlaw(x, m, c, c0):\n",
    "    return c0 + x**m * c\n",
    "\n",
    "popt, pcov = curve_fit(func_powerlaw, df_all.switches_means, df_all.tpertrial_means, method=\"trf\", maxfev=50000)\n",
    "\n",
    "\n"
   ]
  },
  {
   "cell_type": "code",
   "execution_count": 15,
   "metadata": {},
   "outputs": [
    {
     "name": "stderr",
     "output_type": "stream",
     "text": [
      "/tmp/ipykernel_3847/213345687.py:9: UserWarning: color is redundantly defined by the 'color' keyword argument and the fmt string \"bo\" (-> color='b'). The keyword argument will take precedence.\n",
      "  ax[i].errorbar(\n"
     ]
    }
   ],
   "source": [
    "# plot data for all subjects\n",
    "colors = mcolors.TABLEAU_COLORS\n",
    "\n",
    "fig, ax = plt.subplots(1,2, figsize=(24*ps.cm, 12*ps.cm), constrained_layout=True)\n",
    "for i in range(len(ax)):\n",
    "\n",
    "    for name, color in zip(df_all.names, colors):\n",
    "        minidf = df_all[df_all.names == name]\n",
    "        ax[i].errorbar(\n",
    "            minidf.switches_means,\n",
    "            minidf.tpertrial_means,\n",
    "            xerr=minidf.switches_sems,\n",
    "            yerr=minidf.tpertrial_sems,\n",
    "            fmt=\"bo\",\n",
    "            label=name,\n",
    "            color=color,\n",
    "        )\n",
    "\n",
    "x = np.linspace(df_all.switches_means.min()-0.1, df_all.switches_means.max()+2, 1000)\n",
    "\n",
    "ax[1].plot(x, func_powerlaw(x, *popt))\n",
    "ax[0].plot(x, func_powerlaw(x, *popt))\n",
    "ax[1].set_ylim(0, 6)\n",
    "\n",
    "fig.supxlabel('Number of switches')\n",
    "fig.supxlabel(' of switches')\n",
    "plt.show()"
   ]
  },
  {
   "cell_type": "code",
   "execution_count": 16,
   "metadata": {},
   "outputs": [
    {
     "data": {
      "text/plain": [
       "[<matplotlib.lines.Line2D at 0x7f5cc5fd8310>]"
      ]
     },
     "execution_count": 16,
     "metadata": {},
     "output_type": "execute_result"
    }
   ],
   "source": [
    "# seperate dataset according to "
   ]
  },
  {
   "cell_type": "code",
   "execution_count": 17,
   "metadata": {},
   "outputs": [],
   "source": []
  }
 ],
 "metadata": {
  "kernelspec": {
   "display_name": "Python 3.10.8 ('vwmenv': venv)",
   "language": "python",
   "name": "python3"
  },
  "language_info": {
   "codemirror_mode": {
    "name": "ipython",
    "version": 3
   },
   "file_extension": ".py",
   "mimetype": "text/x-python",
   "name": "python",
   "nbconvert_exporter": "python",
   "pygments_lexer": "ipython3",
   "version": "3.10.8"
  },
  "orig_nbformat": 4,
  "vscode": {
   "interpreter": {
    "hash": "8255c074632b1c81c2691853723a10c160401814b29754ce4c04cbcbe3a4c4db"
   }
  }
 },
 "nbformat": 4,
 "nbformat_minor": 2
}
