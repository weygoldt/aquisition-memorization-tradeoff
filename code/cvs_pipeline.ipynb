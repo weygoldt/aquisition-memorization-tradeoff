{
 "cells": [
  {
   "cell_type": "code",
   "execution_count": 1,
   "metadata": {},
   "outputs": [],
   "source": [
    "import os\n",
    "from pathlib import Path\n",
    "import matplotlib.colors as mcolors\n",
    "import matplotlib.pyplot as plt\n",
    "from matplotlib.pyplot import cm\n",
    "import numpy as np\n",
    "import pandas as pd\n",
    "from scipy.optimize import curve_fit\n",
    "from modules.functions import bound_logistic\n",
    "from modules.plotstyle import PlotStyle\n",
    "import matplotlib.colors as mcolors\n",
    "import plottools.colors as clrs\n",
    "import cmocean.cm as cmo\n",
    "import seaborn as sns\n",
    "from scipy.stats import wilcoxon\n",
    "from cvs_preprocessing import dataimport\n",
    "import matplotlib.colors as mcolors\n",
    "%matplotlib qt\n",
    "\n",
    "# init standardized plotstyle\n",
    "ps = PlotStyle()"
   ]
  },
  {
   "cell_type": "code",
   "execution_count": 2,
   "metadata": {},
   "outputs": [],
   "source": [
    "# import the data\n",
    "dataroot = Path(\"../data/cvs\")\n",
    "processed_dataroot = Path(\"../data_processed\")\n",
    "df = dataimport(dataroot, processed_dataroot)\n",
    "\n",
    "# delete JONA!\n",
    "df = df[df.subj != 'VP1']\n",
    "\n",
    "def mean_sem(df):\n",
    "    # means and sem for trial duration\n",
    "    names = np.unique(df.subj).tolist()\n",
    "    n = df.shape[1] / len(names)\n",
    "    means = np.array(df.tpertrial.groupby(df.subj).mean())\n",
    "    sems = np.array(df.tpertrial.groupby(df.subj).std()) / np.sqrt(n)\n",
    "\n",
    "    # put to dataframe\n",
    "    df_all = pd.DataFrame(\n",
    "        list(zip(names, means, sems)),\n",
    "        columns=(\"names\", \"tpertrial_means\", \"tpertrial_sems\"),\n",
    "    )\n",
    "\n",
    "    # means and sems for no of switches\n",
    "    means = np.array(df.switches.groupby(df.subj).mean())\n",
    "    sems = np.array(df.switches.groupby(df.subj).std()) / np.sqrt(n)\n",
    "    df_all[\"switches_means\"] = means\n",
    "    df_all[\"switches_sems\"] = sems\n",
    "\n",
    "    return df_all"
   ]
  },
  {
   "cell_type": "code",
   "execution_count": 3,
   "metadata": {},
   "outputs": [],
   "source": [
    "# fit power law function\n",
    "def func_powerlaw(x, m, c, c0):\n",
    "    return c0 + x**m * c\n",
    "df_all = mean_sem(df)\n",
    "popt, pcov = curve_fit(func_powerlaw, df_all.switches_means, df_all.tpertrial_means, method=\"trf\", maxfev=50000)"
   ]
  },
  {
   "cell_type": "markdown",
   "metadata": {},
   "source": [
    "### Plot mean and sem for switches and handling time for every subject"
   ]
  },
  {
   "cell_type": "code",
   "execution_count": 4,
   "metadata": {},
   "outputs": [
    {
     "name": "stderr",
     "output_type": "stream",
     "text": [
      "/tmp/ipykernel_43451/2794611695.py:8: UserWarning: color is redundantly defined by the 'color' keyword argument and the fmt string \"bo\" (-> color='b'). The keyword argument will take precedence.\n",
      "  ax.errorbar(\n"
     ]
    }
   ],
   "source": [
    "# plot data for all subjects\n",
    "colors = mcolors.TABLEAU_COLORS\n",
    "\n",
    "\n",
    "def plot_errorbars(df_all, ax):\n",
    "    for name, color in zip(df_all.names, colors):\n",
    "        minidf = df_all[df_all.names == name]\n",
    "        ax.errorbar(\n",
    "            minidf.switches_means,\n",
    "            minidf.tpertrial_means,\n",
    "            xerr=minidf.switches_sems,\n",
    "            yerr=minidf.tpertrial_sems,\n",
    "            fmt=\"bo\",\n",
    "            label=name,\n",
    "            color=color,\n",
    "        )\n",
    "fig, ax = plt.subplots(1,2, figsize=(24*ps.cm, 12*ps.cm), constrained_layout=True)\n",
    "for i in range(len(ax)):\n",
    "    plot_errorbars(df_all, ax[i])\n",
    "\n",
    "x = np.linspace(df_all.switches_means.min()-0.2, df_all.switches_means.max()+2, 1000)\n",
    "\n",
    "ax[1].plot(x, func_powerlaw(x, *popt))\n",
    "ax[0].plot(x, func_powerlaw(x, *popt))\n",
    "ax[1].set_ylim(0, 6)\n",
    "\n",
    "fig.supxlabel('Number of switches')\n",
    "fig.supxlabel(' of switches')\n",
    "plt.show()"
   ]
  },
  {
   "cell_type": "markdown",
   "metadata": {},
   "source": [
    "### Plot seperated for delay conditiom"
   ]
  },
  {
   "cell_type": "code",
   "execution_count": 5,
   "metadata": {},
   "outputs": [
    {
     "name": "stderr",
     "output_type": "stream",
     "text": [
      "/tmp/ipykernel_43451/1876838165.py:4: UserWarning: color is redundantly defined by the 'color' keyword argument and the fmt string \"bo\" (-> color='b'). The keyword argument will take precedence.\n",
      "  ax.errorbar(\n"
     ]
    }
   ],
   "source": [
    "\n",
    "def plot_errorbars2(df_all, ax, color):\n",
    "    for name, _ in zip(df_all.names, colors):\n",
    "        minidf = df_all[df_all.names == name]\n",
    "        ax.errorbar(\n",
    "            minidf.switches_means,\n",
    "            minidf.tpertrial_means,\n",
    "            xerr=minidf.switches_sems,\n",
    "            yerr=minidf.tpertrial_sems,\n",
    "            fmt=\"bo\",\n",
    "            label=name,\n",
    "            color=color,\n",
    "        )\n",
    "# sort dataset by delay condition\n",
    "df_0 = df[df.delay == 0]\n",
    "df_2 = df[df.delay == 1.5]\n",
    "\n",
    "ms_0 = mean_sem(df_0)\n",
    "ms_2 = mean_sem(df_2)\n",
    "\n",
    "popt0, pcov = curve_fit(func_powerlaw, ms_0.switches_means, ms_0.tpertrial_means, method=\"trf\", maxfev=50000)\n",
    "popt2, pcov = curve_fit(func_powerlaw, ms_2.switches_means, ms_2.tpertrial_means, method=\"trf\", maxfev=50000)\n",
    "\n",
    "fig, ax = plt.subplots()\n",
    "plot_errorbars2(ms_0, ax, color='red')\n",
    "plot_errorbars2(ms_2, ax, color='blue')\n",
    "\n",
    "ax.plot(x, func_powerlaw(x, *popt0))\n",
    "ax.plot(x, func_powerlaw(x, *popt2))\n",
    "\n",
    "plt.show()"
   ]
  },
  {
   "cell_type": "markdown",
   "metadata": {},
   "source": [
    "### Plot seperated for cycles per degree condition"
   ]
  },
  {
   "cell_type": "code",
   "execution_count": 6,
   "metadata": {},
   "outputs": [
    {
     "name": "stderr",
     "output_type": "stream",
     "text": [
      "/tmp/ipykernel_43451/2794611695.py:8: UserWarning: color is redundantly defined by the 'color' keyword argument and the fmt string \"bo\" (-> color='b'). The keyword argument will take precedence.\n",
      "  ax.errorbar(\n"
     ]
    }
   ],
   "source": [
    "# sort dataset by delay condition\n",
    "df_0 = df[df.cpd == 2]\n",
    "df_2 = df[df.cpd == 8]\n",
    "\n",
    "ms_0 = mean_sem(df_0)\n",
    "ms_2 = mean_sem(df_2)\n",
    "\n",
    "popt0, pcov = curve_fit(func_powerlaw, ms_0.switches_means, ms_0.tpertrial_means, method=\"trf\", maxfev=50000)\n",
    "popt2, pcov = curve_fit(func_powerlaw, ms_2.switches_means, ms_2.tpertrial_means, method=\"trf\", maxfev=50000)\n",
    "\n",
    "fig, ax = plt.subplots()\n",
    "plot_errorbars(ms_0, ax)\n",
    "plot_errorbars(ms_2, ax)\n",
    "\n",
    "ax.plot(x, func_powerlaw(x, *popt0))\n",
    "ax.plot(x, func_powerlaw(x, *popt2))\n",
    "\n",
    "plt.show()"
   ]
  },
  {
   "cell_type": "markdown",
   "metadata": {},
   "source": [
    "### Compute selectivity index"
   ]
  },
  {
   "cell_type": "code",
   "execution_count": 7,
   "metadata": {},
   "outputs": [
    {
     "name": "stdout",
     "output_type": "stream",
     "text": [
      "0.0039335210940703\n",
      "0.0386629254512326\n",
      "0.0034400523005874\n",
      "0.0284508141780779\n",
      "0.0008928828644568\n",
      "0.0481080631378082\n",
      "0.0011384791820448\n",
      "0.0125131740650375\n",
      "0.0036470304202563\n",
      "0.0225088771717522\n",
      "0.0049845793151208\n",
      "0.025376040149706\n",
      "0.0004211719940796\n",
      "0.0173417920975854\n",
      "0.0254548236055034\n",
      "1.0004211719940796\n"
     ]
    }
   ],
   "source": [
    "# compute mean for every subject\n",
    "\n",
    "def getindex(df):\n",
    "\n",
    "    mean = []\n",
    "    sem = []\n",
    "    names = []\n",
    "    for name in np.unique(df.subj):\n",
    "        print(np.min(df.strat_idx[df.subj==name]))\n",
    "        print(np.max(df.strat_idx[df.subj==name]))\n",
    "        mean.append(np.mean(df.strat_idx[df.subj==name]))\n",
    "        sem.append(np.std(df.strat_idx[df.subj==name]))\n",
    "        names.append(name)\n",
    "\n",
    "    return mean, sem, names\n",
    "\n",
    "mean, sem, names = getindex(df)"
   ]
  },
  {
   "cell_type": "code",
   "execution_count": 8,
   "metadata": {},
   "outputs": [],
   "source": [
    "fig, ax = plt.subplots()\n",
    "\n",
    "for i, name in enumerate(names):\n",
    "    plt.errorbar(mean[i], i, xerr=sem[i], fmt='bo')\n",
    "\n",
    "ax.set_xlim(0,1)\n",
    "\n",
    "plt.show()"
   ]
  },
  {
   "cell_type": "code",
   "execution_count": 9,
   "metadata": {},
   "outputs": [
    {
     "name": "stdout",
     "output_type": "stream",
     "text": [
      "0.0039335210940703\n",
      "0.035960763879998\n",
      "0.0034400523005874\n",
      "0.0186969784999133\n",
      "0.0008928828644568\n",
      "0.0216219441226473\n",
      "0.0011384791820448\n",
      "0.0049178268108839\n",
      "0.0036668705356035\n",
      "0.0225088771717522\n",
      "0.0049845793151208\n",
      "0.025376040149706\n",
      "0.0010270011112126\n",
      "0.0072598153120584\n",
      "0.0254548236055034\n",
      "0.6685453096347596\n",
      "0.0075518935699361\n",
      "0.0386629254512326\n",
      "0.0042575911064242\n",
      "0.0284508141780779\n",
      "0.0039325005399624\n",
      "0.0481080631378082\n",
      "0.0018820438278091\n",
      "0.0125131740650375\n",
      "0.0036470304202563\n",
      "0.0172589030250775\n",
      "0.0071291260113617\n",
      "0.0219216630195276\n",
      "0.0004211719940796\n",
      "0.0173417920975854\n",
      "0.048316339963909\n",
      "1.0004211719940796\n"
     ]
    }
   ],
   "source": [
    "# repeat for two categories\n",
    "fig, ax = plt.subplots()\n",
    "\n",
    "mean, sem, names = getindex(df[df.delay==0])\n",
    "\n",
    "for i, name in enumerate(names):\n",
    "    plt.errorbar(mean[i], i, xerr=sem[i], fmt='bo')\n",
    "\n",
    "\n",
    "mean, sem, names = getindex(df[df.delay==1.5])\n",
    "\n",
    "for i, name in enumerate(names):\n",
    "    plt.errorbar(mean[i], i+0.2, xerr=sem[i], fmt='ro')\n",
    "\n",
    "ax.set_xlim(0,1)\n",
    "\n",
    "plt.show()"
   ]
  }
 ],
 "metadata": {
  "kernelspec": {
   "display_name": "Python 3.10.8 ('vwmenv': venv)",
   "language": "python",
   "name": "python3"
  },
  "language_info": {
   "codemirror_mode": {
    "name": "ipython",
    "version": 3
   },
   "file_extension": ".py",
   "mimetype": "text/x-python",
   "name": "python",
   "nbconvert_exporter": "python",
   "pygments_lexer": "ipython3",
   "version": "3.10.8"
  },
  "orig_nbformat": 4,
  "vscode": {
   "interpreter": {
    "hash": "8255c074632b1c81c2691853723a10c160401814b29754ce4c04cbcbe3a4c4db"
   }
  }
 },
 "nbformat": 4,
 "nbformat_minor": 2
}
