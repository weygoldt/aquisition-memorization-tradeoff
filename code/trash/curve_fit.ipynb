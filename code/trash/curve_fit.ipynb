{
 "cells": [
  {
   "cell_type": "markdown",
   "metadata": {},
   "source": [
    "Check this out https://www.youtube.com/watch?v=Jl-Ye38qkRc"
   ]
  },
  {
   "cell_type": "code",
   "execution_count": 2,
   "metadata": {},
   "outputs": [
    {
     "name": "stdout",
     "output_type": "stream",
     "text": [
      "WARNING The directories already exist! Nothing will be done unless you delete them!\n",
      "SUCCESS Output file created or exists already!\n"
     ]
    }
   ],
   "source": [
    "# run prepro (does nothing if there is nothing to do)\n",
    "dataroot = Path(\"../data/test/4afc\")\n",
    "prepro(dataroot)\n",
    "\n",
    "# load the data\n",
    "data = pd.read_csv(f\"{dataroot}/4afc_all.csv\")\n",
    "\n",
    "# select example dataset\n",
    "name = \"eva\"\n",
    "condition = 'high'\n",
    "\n",
    "# get example x and y data\n",
    "x = data.what[(data.cat == condition) & (data.subj == name)]\n",
    "y = data.prop[(data.cat == condition) & (data.subj == name)]"
   ]
  },
  {
   "cell_type": "code",
   "execution_count": 3,
   "metadata": {},
   "outputs": [
    {
     "name": "stdout",
     "output_type": "stream",
     "text": [
      "bound_logistic ran in: 3.5762786865234375e-06 sec\n"
     ]
    },
    {
     "data": {
      "text/plain": [
       "[<matplotlib.lines.Line2D at 0x7f22e073d990>]"
      ]
     },
     "execution_count": 3,
     "metadata": {},
     "output_type": "execute_result"
    }
   ],
   "source": [
    "# make a logistic function \n",
    "logistic = bound_logistic(0.25, 1)\n",
    "\n",
    "# fit the function\n",
    "popt, pcov = curve_fit(logistic, x, y, method=\"trf\", maxfev=50000)\n",
    "\n",
    "# make the model curve with higher resolution\n",
    "x_fit = np.arange(0, 0.12, 0.001)\n",
    "y_fit = logistic(x_fit, *popt)\n",
    "\n",
    "# plot the data and the model\n",
    "plt.plot(x, y, 'o', label=name)\n",
    "plt.plot(x_fit, y_fit)"
   ]
  },
  {
   "cell_type": "code",
   "execution_count": 4,
   "metadata": {},
   "outputs": [],
   "source": [
    "# find nearest value in an array\n",
    "def find_nearest(array, value):\n",
    "    array = np.asarray(array)\n",
    "    idx = (np.abs(array - value)).argmin()\n",
    "    return array[idx]\n",
    "\n",
    "# plot curves for 3 in one condition\n",
    "fig, ax = plt.subplots(1, 1, figsize=(6, 4))\n",
    "\n",
    "condition = 'high'\n",
    "colors = ['blue', 'green', 'red']\n",
    "\n",
    "for i, name in enumerate(np.unique(data.subj)[:3]):\n",
    "\n",
    "    # get data for this name\n",
    "    x = np.asanyarray(data.what[(data.cat == condition) & (data.subj == name)], dtype=np.float64)\n",
    "    y = np.asanyarray(data.prop[(data.cat == condition) & (data.subj == name)], dtype=np.float64)\n",
    "\n",
    "    # fit the logistic function\n",
    "    popt, pcov = curve_fit(logistic, x, y, method=\"trf\", maxfev=50000)\n",
    "\n",
    "    # make the model curve\n",
    "    x_fit = np.arange(0, 0.12, 0.001)\n",
    "    y_fit = logistic(x_fit, *popt)\n",
    "\n",
    "    # plot\n",
    "    ax.plot(x, y, 'o', label=name, c=colors[i],)\n",
    "    ax.plot(\n",
    "        x_fit, \n",
    "        y_fit, \n",
    "        '-',  \n",
    "        c=colors[i],\n",
    "    )\n",
    "\n",
    "    thresh = x_fit[y_fit == find_nearest(y_fit,0.625)][0]\n",
    "    threshy = y_fit[y_fit == find_nearest(y_fit,0.625)][0]\n",
    "\n",
    "    ax.plot([thresh, thresh], [0.25, threshy], lw=1, label=f\"det. thresh = {np.round(thresh, 2)}\", c=colors[i],)\n",
    "\n",
    "ax.set_ylabel(\"prop. correct\")\n",
    "ax.set_xlabel('duration visible [s]')\n",
    "ax.set_ylim(0.25, 1)\n",
    "ax.legend()\n",
    "plt.show()"
   ]
  },
  {
   "cell_type": "code",
   "execution_count": 5,
   "metadata": {},
   "outputs": [],
   "source": [
    "# iterate through all in both categories and collect thresholds\n",
    "conds = []\n",
    "threshs = []\n",
    "for condition in np.unique(data.cat):\n",
    "    for i, name in enumerate(np.unique(data.subj)):\n",
    "\n",
    "        # get data for this name\n",
    "        x = np.asanyarray(data.what[(data.cat == condition) & (data.subj == name)], dtype=np.float64)\n",
    "        y = np.asanyarray(data.prop[(data.cat == condition) & (data.subj == name)], dtype=np.float64)\n",
    "\n",
    "        # fit the logistic function\n",
    "        popt, pcov = curve_fit(logistic, x, y, method=\"trf\", maxfev=50000)\n",
    "\n",
    "        # make the model curve\n",
    "        x_fit = np.arange(0, 0.12, 0.001)\n",
    "        y_fit = logistic(x_fit, *popt)\n",
    "\n",
    "        thresh = x_fit[y_fit == find_nearest(y_fit,0.625)][0]\n",
    "        threshy = y_fit[y_fit == find_nearest(y_fit,0.625)][0]\n",
    "\n",
    "        conds.append(condition)\n",
    "        threshs.append(thresh)\n",
    "\n",
    "# make a dataframe \n",
    "dthresh = pd.DataFrame(np.asarray([np.asarray(conds), np.asarray(threshs)]).T, columns=('cond', 'thresh'))"
   ]
  }
 ],
 "metadata": {
  "kernelspec": {
   "display_name": "Python 3.10.8 ('vwmenv': venv)",
   "language": "python",
   "name": "python3"
  },
  "language_info": {
   "codemirror_mode": {
    "name": "ipython",
    "version": 3
   },
   "file_extension": ".py",
   "mimetype": "text/x-python",
   "name": "python",
   "nbconvert_exporter": "python",
   "pygments_lexer": "ipython3",
   "version": "3.10.8"
  },
  "orig_nbformat": 4,
  "vscode": {
   "interpreter": {
    "hash": "8255c074632b1c81c2691853723a10c160401814b29754ce4c04cbcbe3a4c4db"
   }
  }
 },
 "nbformat": 4,
 "nbformat_minor": 2
}
